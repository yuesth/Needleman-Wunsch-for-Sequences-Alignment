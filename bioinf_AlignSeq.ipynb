{
  "nbformat": 4,
  "nbformat_minor": 0,
  "metadata": {
    "colab": {
      "name": "bioinf-AlignSeq.ipynb",
      "provenance": [],
      "collapsed_sections": []
    },
    "kernelspec": {
      "name": "python3",
      "display_name": "Python 3"
    }
  },
  "cells": [
    {
      "cell_type": "code",
      "metadata": {
        "id": "pQVM0GbKGOFr",
        "colab_type": "code",
        "colab": {}
      },
      "source": [
        "import numpy as np\n",
        "import pandas as pd\n",
        "from google.colab import files"
      ],
      "execution_count": 0,
      "outputs": []
    },
    {
      "cell_type": "code",
      "metadata": {
        "id": "oiphRR7t2h5n",
        "colab_type": "code",
        "outputId": "9fd38567-4b14-4b65-fb44-5b719d207b6d",
        "colab": {
          "base_uri": "https://localhost:8080/",
          "height": 124
        }
      },
      "source": [
        "from google.colab import drive\n",
        "drive.mount('/content/drive')"
      ],
      "execution_count": 3,
      "outputs": [
        {
          "output_type": "stream",
          "text": [
            "Go to this URL in a browser: https://accounts.google.com/o/oauth2/auth?client_id=947318989803-6bn6qk8qdgf4n4g3pfee6491hc0brc4i.apps.googleusercontent.com&redirect_uri=urn%3Aietf%3Awg%3Aoauth%3A2.0%3Aoob&scope=email%20https%3A%2F%2Fwww.googleapis.com%2Fauth%2Fdocs.test%20https%3A%2F%2Fwww.googleapis.com%2Fauth%2Fdrive%20https%3A%2F%2Fwww.googleapis.com%2Fauth%2Fdrive.photos.readonly%20https%3A%2F%2Fwww.googleapis.com%2Fauth%2Fpeopleapi.readonly&response_type=code\n",
            "\n",
            "Enter your authorization code:\n",
            "··········\n",
            "Mounted at /content/drive\n"
          ],
          "name": "stdout"
        }
      ]
    },
    {
      "cell_type": "code",
      "metadata": {
        "id": "2I8JQ2Sg621G",
        "colab_type": "code",
        "outputId": "6ec42347-4014-4550-ab1f-fe19268c940f",
        "colab": {
          "base_uri": "https://localhost:8080/",
          "height": 590
        }
      },
      "source": [
        "def createBlosum(sq1, sq2):\n",
        "  sq1 = list(sq1); sq2 = list(sq2)\n",
        "  sq1o = np.insert(sq1,[0],None); sq2o = np.insert(sq2,[0],None)\n",
        "  specBlosum = list()\n",
        "  rowBlosum = ['A','R','N','D','C','Q','E','G','H','I','L','K','M','F','P','S','T','W','Y','V','B','Z','X','*']\n",
        "  df = pd.read_csv('/content/drive/My Drive/DATA/matrix.csv')\n",
        "  for i in range(len(sq1)):\n",
        "    for j in range(len(sq2)):\n",
        "      specBlosum.append(df.iloc[rowBlosum.index(sq1[i]), rowBlosum.index(sq2[j])])\n",
        "  specBlosum = np.array(specBlosum).reshape(len(sq1), len(sq2))\n",
        "  specBlosum = np.insert(specBlosum,[0],0,axis=0)\n",
        "  specBlosum = np.insert(specBlosum,[0],0,axis=1)\n",
        "  return df, specBlosum \n",
        "\n",
        "createBlosum('NALMSQA','MNALQM')"
      ],
      "execution_count": 4,
      "outputs": [
        {
          "output_type": "execute_result",
          "data": {
            "text/plain": [
              "(    A  R  N  D  C  Q  E  G  H  I  L  K  M  F  P  S  T   W  Y  V  B  Z  X  *\n",
              " 0   4 -1 -2 -2  0 -1 -1  0 -2 -1 -1 -1 -1 -2 -1  1  0  -3 -2  0 -2 -1  0 -4\n",
              " 1  -1  5  0 -2 -3  1  0 -2  0 -3 -2  2 -1 -3 -2 -1 -1  -3 -2 -3 -1  0 -1 -4\n",
              " 2  -2  0  6  1 -3  0  0  0  1 -3 -3  0 -2 -3 -2  1  0  -4 -2 -3  3  0 -1 -4\n",
              " 3  -2 -2  1  6 -3  0  2 -1 -1 -3 -4 -1 -3 -3 -1  0 -1  -4 -3 -3  4  1 -1 -4\n",
              " 4   0 -3 -3 -3  9 -3 -4 -3 -3 -1 -1 -3 -1 -2 -3 -1 -1  -2 -2 -1 -3 -3 -2 -4\n",
              " 5  -1  1  0  0 -3  5  2 -2  0 -3 -2  1  0 -3 -1  0 -1  -2 -1 -2  0  3 -1 -4\n",
              " 6  -1  0  0  2 -4  2  5 -2  0 -3 -3  1 -2 -3 -1  0 -1  -3 -2 -2  1  4 -1 -4\n",
              " 7   0 -2  0 -1 -3 -2 -2  6 -2 -4 -4 -2 -3 -3 -2  0 -2  -2 -3 -3 -1 -2 -1 -4\n",
              " 8  -2  0  1 -1 -3  0  0 -2  8 -3 -3 -1 -2 -1 -2 -1 -2  -2  2 -3  0  0 -1 -4\n",
              " 9  -1 -3 -3 -3 -1 -3 -3 -4 -3  4  2 -3  1  0 -3 -2 -1  -3 -1  3 -3 -3 -1 -4\n",
              " 10 -1 -2 -3 -4 -1 -2 -3 -4 -3  2  4 -2  2  0 -3 -2 -1  -2 -1  1 -4 -3 -1 -4\n",
              " 11 -1  2  0 -1 -3  1  1 -2 -1 -3 -2  5 -1 -3 -1  0 -1  -3 -2 -2  0  1 -1 -4\n",
              " 12 -1 -1 -2 -3 -1  0 -2 -3 -2  1  2 -1  5  0 -2 -1 -1  -1 -1  1 -3 -1 -1 -4\n",
              " 13 -2 -3 -3 -3 -2 -3 -3 -3 -1  0  0 -3  0  6 -4 -2 -2   1  3 -1 -3 -3 -1 -4\n",
              " 14 -1 -2 -2 -1 -3 -1 -1 -2 -2 -3 -3 -1 -2 -4  7 -1 -1  -4 -3 -2 -2 -1 -2 -4\n",
              " 15  1 -1  1  0 -1  0  0  0 -1 -2 -2  0 -1 -2 -1  4  1  -3 -2 -2  0  0  0 -4\n",
              " 16  0 -1  0 -1 -1 -1 -1 -2 -2 -1 -1 -1 -1 -2 -1  1  5  -2 -2  0 -1 -1  0 -4\n",
              " 17 -3 -3 -4 -4 -2 -2 -3 -2 -2 -3 -2 -3 -1  1 -4 -3 -2  11  2 -3 -4 -3 -2 -4\n",
              " 18 -2 -2 -2 -3 -2 -1 -2 -3  2 -1 -1 -2 -1  3 -3 -2 -2   2  7 -1 -3 -2 -1 -4\n",
              " 19  0 -3 -3 -3 -1 -2 -2 -3 -3  3  1 -2  1 -1 -2 -2  0  -3 -1  4 -3 -2 -1 -4\n",
              " 20 -2 -1  3  4 -3  0  1 -1  0 -3 -4  0 -3 -3 -2  0 -1  -4 -3 -3  4  1 -1 -4\n",
              " 21 -1  0  0  1 -3  3  4 -2  0 -3 -3  1 -1 -3 -1  0 -1  -3 -2 -2  1  4 -1 -4\n",
              " 22  0 -1 -1 -1 -2 -1 -1 -1 -1 -1 -1 -1 -1 -1 -2  0  0  -2 -1 -1 -1 -1 -1 -4\n",
              " 23 -4 -4 -4 -4 -4 -4 -4 -4 -4 -4 -4 -4 -4 -4 -4 -4 -4  -4 -4 -4 -4 -4 -4  1,\n",
              " array([[ 0,  0,  0,  0,  0,  0,  0],\n",
              "        [ 0, -2,  6, -2, -3,  0, -2],\n",
              "        [ 0, -1, -2,  4, -1, -1, -1],\n",
              "        [ 0,  2, -3, -1,  4, -2,  2],\n",
              "        [ 0,  5, -2, -1,  2,  0,  5],\n",
              "        [ 0, -1,  1,  1, -2,  0, -1],\n",
              "        [ 0,  0,  0, -1, -2,  5,  0],\n",
              "        [ 0, -1, -2,  4, -1, -1, -1]]))"
            ]
          },
          "metadata": {
            "tags": []
          },
          "execution_count": 4
        }
      ]
    },
    {
      "cell_type": "code",
      "metadata": {
        "id": "24VbxcLKAL8I",
        "colab_type": "code",
        "colab": {}
      },
      "source": [
        " def createGrid(sq1, sq2): \n",
        "  lstr1 = list(sq1);lstr2 = list(sq2)\n",
        "  lstr1 = list(np.insert(lstr1,[0],None)); lstr2 = list(np.insert(lstr2,[0],None))\n",
        "  dfGrid = pd.DataFrame(np.zeros([len(lstr1),len(lstr2)]),columns=lstr2,index=lstr1)\n",
        "\n",
        "  y = [number for number in range(0, -(len(lstr1))*6, -6)]\n",
        "  z = [number1 for number1 in range(-6, -(len(lstr2))*6,-6)]\n",
        "  dfGrid.iloc[0:,0] = y\n",
        "  for i in range(1,len(z)+1):\n",
        "      dfGrid.iloc[0,i] = z[i-1]\n",
        "  print('berikut matriks sequences: ')\n",
        "  print(dfGrid)\n",
        "  return dfGrid.values.tolist()\n"
      ],
      "execution_count": 0,
      "outputs": []
    },
    {
      "cell_type": "code",
      "metadata": {
        "id": "yhSUJR6GZ1s1",
        "colab_type": "code",
        "colab": {
          "base_uri": "https://localhost:8080/",
          "height": 330
        },
        "outputId": "0c1928a3-c0f9-4f2d-8082-9df40b64419a"
      },
      "source": [
        "createGrid('NALMSQA','MNALQM')"
      ],
      "execution_count": 9,
      "outputs": [
        {
          "output_type": "stream",
          "text": [
            "berikut matriks sequences: \n",
            "      N    M     N     A     L     Q     M\n",
            "N   0.0 -6.0 -12.0 -18.0 -24.0 -30.0 -36.0\n",
            "N  -6.0  0.0   0.0   0.0   0.0   0.0   0.0\n",
            "A -12.0  0.0   0.0   0.0   0.0   0.0   0.0\n",
            "L -18.0  0.0   0.0   0.0   0.0   0.0   0.0\n",
            "M -24.0  0.0   0.0   0.0   0.0   0.0   0.0\n",
            "S -30.0  0.0   0.0   0.0   0.0   0.0   0.0\n",
            "Q -36.0  0.0   0.0   0.0   0.0   0.0   0.0\n",
            "A -42.0  0.0   0.0   0.0   0.0   0.0   0.0\n"
          ],
          "name": "stdout"
        },
        {
          "output_type": "execute_result",
          "data": {
            "text/plain": [
              "[[0.0, -6.0, -12.0, -18.0, -24.0, -30.0, -36.0],\n",
              " [-6.0, 0.0, 0.0, 0.0, 0.0, 0.0, 0.0],\n",
              " [-12.0, 0.0, 0.0, 0.0, 0.0, 0.0, 0.0],\n",
              " [-18.0, 0.0, 0.0, 0.0, 0.0, 0.0, 0.0],\n",
              " [-24.0, 0.0, 0.0, 0.0, 0.0, 0.0, 0.0],\n",
              " [-30.0, 0.0, 0.0, 0.0, 0.0, 0.0, 0.0],\n",
              " [-36.0, 0.0, 0.0, 0.0, 0.0, 0.0, 0.0],\n",
              " [-42.0, 0.0, 0.0, 0.0, 0.0, 0.0, 0.0]]"
            ]
          },
          "metadata": {
            "tags": []
          },
          "execution_count": 9
        }
      ]
    },
    {
      "cell_type": "code",
      "metadata": {
        "id": "_r7En1dwHlFc",
        "colab_type": "code",
        "outputId": "95379235-3165-4439-c28e-996171c9f5b7",
        "colab": {
          "base_uri": "https://localhost:8080/",
          "height": 920
        }
      },
      "source": [
        "def needleman_wunsch(seq1, seq2):\n",
        "    gap = 6; sq1o = np.insert(list(seq1),[0],None); sq2o = np.insert(list(seq2),[0],None)\n",
        "    y = [number for number in range(0, -(len(sq1o))*6, -6)]\n",
        "    z = [number1 for number1 in range(-6, -(len(sq2o))*6,-6)]\n",
        "    \n",
        "    #inisialisasi matriks blosum\n",
        "    dfBlosum, mtxBlosum = createBlosum(seq1,seq2)\n",
        "\n",
        "    #inisialisasi matriks sequences\n",
        "    mtxGrid = createGrid(seq1,seq2)\n",
        "\n",
        "    #inisialisasi matriks pointer    \n",
        "    m = len(seq1)+1; n = len(seq2)+1\n",
        "    mtxTrack = np.chararray((m,n), unicode=True)\n",
        "    mtxTrack[0,0:] = [i for i in range(n)]\n",
        "    mtxTrack[1:,0] = [j for j in range(1,m)]\n",
        "\n",
        "    for i in range(1, m):\n",
        "        for j in range(1, n):\n",
        "              diag = mtxGrid[i - 1][j - 1] + mtxBlosum[i][j]\n",
        "              vert = mtxGrid[i - 1][j] - gap\n",
        "              hori = mtxGrid[i][j - 1] - gap\n",
        "              mtxGrid[i][j] = max(diag, vert, hori)\n",
        "              if(mtxGrid[i][j]==diag):\n",
        "                mtxTrack[i][j]='D'\n",
        "              elif(mtxGrid[i][j]==vert):\n",
        "                mtxTrack[i][j]='V'\n",
        "              else:\n",
        "                mtxTrack[i][j]='H'\n",
        "    pdMtxGrid = pd.DataFrame(mtxGrid,index=sq1o,columns=sq2o)\n",
        "    pdMtxGrid.iloc[0:,0] = y\n",
        "    for i in range(1,len(z)+1):\n",
        "        pdMtxGrid.iloc[0,i] = z[i-1]\n",
        "    print('\\n')\n",
        "    print('berikut matriks sequences yang sudah terisi nilai : ')\n",
        "    print(pdMtxGrid)\n",
        "    print('\\n')    \n",
        "\n",
        "    #traceback untuk mencari rute/path terbaik\n",
        "    align1 = \"\"\n",
        "    align2 = \"\"\n",
        "    idxi = m-1\n",
        "    idxj = n-1\n",
        "    while (idxi > 0 or idxj > 0):\n",
        "        pointer = mtxTrack[idxi][idxj]\n",
        "        print('index (%s,%s) pointernya adalah %s' % (str(idxi), str(idxj), str(pointer)))  \n",
        "        if pointer == 'D' :\n",
        "            align1 = seq1[idxi-1] + align1\n",
        "            align2 = seq2[idxj-1] + align2\n",
        "            idxi = idxi - 1\n",
        "            idxj = idxj - 1\n",
        "        elif pointer == 'V':\n",
        "            align1 = seq1[idxi-1] + align1\n",
        "            align2 = '-' + align2\n",
        "            idxi = idxi - 1\n",
        "        elif pointer == 'H':\n",
        "            align1 = '-' + align1\n",
        "            align2 = seq2[idxj-1] +algin2\n",
        "            idxj = idxj - 1\n",
        "        else:\n",
        "            if(idxi>0):\n",
        "                align1 = seq1[:idxi]+align1\n",
        "                align2 = '-'* idxi + align2\n",
        "            else:\n",
        "                align2 = seq2[:idxj]+align2\n",
        "                align1 = '-'* idxj + align1\n",
        "            break\n",
        "    print('\\n')  \n",
        "    print('berikut matriks pointer : ')\n",
        "    print(mtxTrack)\n",
        "    print('\\n')\n",
        "    print('alignment 1: ')\n",
        "    print(align1)\n",
        "    print('\\n')\n",
        "    print('alignment 2: ')\n",
        "    print(align2)\n",
        "    return align1, align2\n",
        "\n",
        "needleman_wunsch('NALMSQA','MNALQM')"
      ],
      "execution_count": 12,
      "outputs": [
        {
          "output_type": "stream",
          "text": [
            "berikut matriks sequences: \n",
            "      N    M     N     A     L     Q     M\n",
            "N   0.0 -6.0 -12.0 -18.0 -24.0 -30.0 -36.0\n",
            "N  -6.0  0.0   0.0   0.0   0.0   0.0   0.0\n",
            "A -12.0  0.0   0.0   0.0   0.0   0.0   0.0\n",
            "L -18.0  0.0   0.0   0.0   0.0   0.0   0.0\n",
            "M -24.0  0.0   0.0   0.0   0.0   0.0   0.0\n",
            "S -30.0  0.0   0.0   0.0   0.0   0.0   0.0\n",
            "Q -36.0  0.0   0.0   0.0   0.0   0.0   0.0\n",
            "A -42.0  0.0   0.0   0.0   0.0   0.0   0.0\n",
            "\n",
            "\n",
            "berikut matriks sequences yang sudah terisi nilai : \n",
            "      N     M     N     A     L     Q     M\n",
            "N   0.0  -6.0 -12.0 -18.0 -24.0 -30.0 -36.0\n",
            "N  -6.0  -2.0   0.0  -6.0 -12.0 -18.0 -24.0\n",
            "A -12.0  -7.0  -4.0   4.0  -2.0  -8.0 -14.0\n",
            "L -18.0 -10.0 -10.0  -2.0   8.0   2.0  -4.0\n",
            "M -24.0 -13.0 -12.0  -8.0   2.0   8.0   7.0\n",
            "S -30.0 -19.0 -12.0 -11.0  -4.0   2.0   7.0\n",
            "Q -36.0 -25.0 -18.0 -13.0 -10.0   1.0   2.0\n",
            "A -42.0 -31.0 -24.0 -14.0 -14.0  -5.0   0.0\n",
            "\n",
            "\n",
            "index (7,6) pointernya adalah D\n",
            "index (6,5) pointernya adalah D\n",
            "index (5,4) pointernya adalah V\n",
            "index (4,4) pointernya adalah V\n",
            "index (3,4) pointernya adalah D\n",
            "index (2,3) pointernya adalah D\n",
            "index (1,2) pointernya adalah D\n",
            "index (0,1) pointernya adalah 1\n",
            "\n",
            "\n",
            "berikut matriks pointer : \n",
            "[['0' '1' '2' '3' '4' '5' '6']\n",
            " ['1' 'D' 'D' 'H' 'H' 'H' 'H']\n",
            " ['2' 'D' 'D' 'D' 'H' 'H' 'H']\n",
            " ['3' 'D' 'D' 'V' 'D' 'H' 'H']\n",
            " ['4' 'D' 'D' 'V' 'V' 'D' 'D']\n",
            " ['5' 'V' 'D' 'D' 'V' 'D' 'D']\n",
            " ['6' 'V' 'V' 'D' 'V' 'D' 'D']\n",
            " ['7' 'V' 'V' 'D' 'D' 'V' 'D']]\n",
            "\n",
            "\n",
            "alignment 1: \n",
            "-NALMSQA\n",
            "\n",
            "\n",
            "alignment 2: \n",
            "MNAL--QM\n"
          ],
          "name": "stdout"
        },
        {
          "output_type": "execute_result",
          "data": {
            "text/plain": [
              "('-NALMSQA', 'MNAL--QM')"
            ]
          },
          "metadata": {
            "tags": []
          },
          "execution_count": 12
        }
      ]
    },
    {
      "cell_type": "code",
      "metadata": {
        "id": "Mi3ziV96J1U1",
        "colab_type": "code",
        "outputId": "cbf79a13-a503-4425-8142-91dcdfe075bb",
        "colab": {
          "base_uri": "https://localhost:8080/",
          "height": 1000
        }
      },
      "source": [
        "def getSkor(seq1, seq2):\n",
        "  skor = 0\n",
        "  df, mtxBlosum = createBlosum(seq1, seq2)\n",
        "  align1, align2 = needleman_wunsch(seq1, seq2)\n",
        "  rowBlosum = ['A','R','N','D','C','Q','E','G','H','I','L','K','M','F','P','S','T','W','Y','V','B','Z','X','*']\n",
        "  for i in range (len(align1)):\n",
        "    if(align1[i] == align2[i]):\n",
        "      currSkor1 = df.iloc[rowBlosum.index(align1[i]), rowBlosum.index(align2[i])]\n",
        "      print(align1[i],align2[i],currSkor1)\n",
        "      skor += currSkor1\n",
        "    elif(align1[i]== '-' or align2[i]=='-'):\n",
        "      currSkor3 = -6\n",
        "      print(align1[i],align2[i],currSkor3)\n",
        "      skor += currSkor3\n",
        "    else:\n",
        "      currSkor2 = -1\n",
        "      print(align1[i],align2[i],currSkor2)\n",
        "      skor += currSkor2\n",
        "  return align1, align2, skor\n",
        "\n",
        "al1, al2, skor = getSkor('NALMSQA','MNALQM')\n",
        "print('skor akhir untuk seq %s dan seq %s adalah %s' % (al1, al2, skor))\n"
      ],
      "execution_count": 13,
      "outputs": [
        {
          "output_type": "stream",
          "text": [
            "berikut matriks sequences: \n",
            "      N    M     N     A     L     Q     M\n",
            "N   0.0 -6.0 -12.0 -18.0 -24.0 -30.0 -36.0\n",
            "N  -6.0  0.0   0.0   0.0   0.0   0.0   0.0\n",
            "A -12.0  0.0   0.0   0.0   0.0   0.0   0.0\n",
            "L -18.0  0.0   0.0   0.0   0.0   0.0   0.0\n",
            "M -24.0  0.0   0.0   0.0   0.0   0.0   0.0\n",
            "S -30.0  0.0   0.0   0.0   0.0   0.0   0.0\n",
            "Q -36.0  0.0   0.0   0.0   0.0   0.0   0.0\n",
            "A -42.0  0.0   0.0   0.0   0.0   0.0   0.0\n",
            "\n",
            "\n",
            "berikut matriks sequences yang sudah terisi nilai : \n",
            "      N     M     N     A     L     Q     M\n",
            "N   0.0  -6.0 -12.0 -18.0 -24.0 -30.0 -36.0\n",
            "N  -6.0  -2.0   0.0  -6.0 -12.0 -18.0 -24.0\n",
            "A -12.0  -7.0  -4.0   4.0  -2.0  -8.0 -14.0\n",
            "L -18.0 -10.0 -10.0  -2.0   8.0   2.0  -4.0\n",
            "M -24.0 -13.0 -12.0  -8.0   2.0   8.0   7.0\n",
            "S -30.0 -19.0 -12.0 -11.0  -4.0   2.0   7.0\n",
            "Q -36.0 -25.0 -18.0 -13.0 -10.0   1.0   2.0\n",
            "A -42.0 -31.0 -24.0 -14.0 -14.0  -5.0   0.0\n",
            "\n",
            "\n",
            "index (7,6) pointernya adalah D\n",
            "index (6,5) pointernya adalah D\n",
            "index (5,4) pointernya adalah V\n",
            "index (4,4) pointernya adalah V\n",
            "index (3,4) pointernya adalah D\n",
            "index (2,3) pointernya adalah D\n",
            "index (1,2) pointernya adalah D\n",
            "index (0,1) pointernya adalah 1\n",
            "\n",
            "\n",
            "berikut matriks pointer : \n",
            "[['0' '1' '2' '3' '4' '5' '6']\n",
            " ['1' 'D' 'D' 'H' 'H' 'H' 'H']\n",
            " ['2' 'D' 'D' 'D' 'H' 'H' 'H']\n",
            " ['3' 'D' 'D' 'V' 'D' 'H' 'H']\n",
            " ['4' 'D' 'D' 'V' 'V' 'D' 'D']\n",
            " ['5' 'V' 'D' 'D' 'V' 'D' 'D']\n",
            " ['6' 'V' 'V' 'D' 'V' 'D' 'D']\n",
            " ['7' 'V' 'V' 'D' 'D' 'V' 'D']]\n",
            "\n",
            "\n",
            "alignment 1: \n",
            "-NALMSQA\n",
            "\n",
            "\n",
            "alignment 2: \n",
            "MNAL--QM\n",
            "- M -6\n",
            "N N 6\n",
            "A A 4\n",
            "L L 4\n",
            "M - -6\n",
            "S - -6\n",
            "Q Q 5\n",
            "A M -1\n",
            "skor akhir untuk seq -NALMSQA dan seq MNAL--QM adalah 0\n"
          ],
          "name": "stdout"
        }
      ]
    }
  ]
}